{
 "cells": [
  {
   "cell_type": "code",
   "execution_count": 15,
   "id": "473a64e7-f2bc-466e-ba88-61d86faa0137",
   "metadata": {},
   "outputs": [],
   "source": [
    "from importlib import reload"
   ]
  },
  {
   "cell_type": "code",
   "execution_count": 59,
   "id": "77fb9350-b93b-4e1e-b204-17d9d6a1794a",
   "metadata": {},
   "outputs": [
    {
     "data": {
      "text/plain": [
       "<module 'server' from '/home/jeff/Documents/mlops/project_3/starter/project/app/server.py'>"
      ]
     },
     "execution_count": 59,
     "metadata": {},
     "output_type": "execute_result"
    }
   ],
   "source": [
    "reload(s)"
   ]
  },
  {
   "cell_type": "code",
   "execution_count": 60,
   "id": "3cf9244b-d66c-41ac-b628-39464721fc93",
   "metadata": {},
   "outputs": [],
   "source": [
    "import server as s"
   ]
  },
  {
   "cell_type": "code",
   "execution_count": 61,
   "id": "5e9e5040-252e-4eed-b44e-27d5a9785fcb",
   "metadata": {},
   "outputs": [],
   "source": [
    "config = s.GLOBAL_CONFIG\n",
    "ncc = s.NewsCategoryClassifier(config)"
   ]
  },
  {
   "cell_type": "code",
   "execution_count": 42,
   "id": "97585009-b5aa-4ac1-ae02-04fff1d94a89",
   "metadata": {},
   "outputs": [
    {
     "data": {
      "text/plain": [
       "array(['Sci/Tech'], dtype='<U25')"
      ]
     },
     "execution_count": 42,
     "metadata": {},
     "output_type": "execute_result"
    }
   ],
   "source": [
    "ncc.pipeline.predict([\"the news is that Apple sucks and iphones are all breaking\"])"
   ]
  },
  {
   "cell_type": "code",
   "execution_count": 43,
   "id": "8c266240-d3f8-4c21-b0df-45e2bfb95d8f",
   "metadata": {},
   "outputs": [
    {
     "data": {
      "text/plain": [
       "array([[0.28181279, 0.25287742, 0.0217446 , 0.00374689, 0.40138072,\n",
       "        0.01053487, 0.02387887, 0.00402384]])"
      ]
     },
     "execution_count": 43,
     "metadata": {},
     "output_type": "execute_result"
    }
   ],
   "source": [
    "ncc.pipeline.predict_proba([\"the news is that Apple sucks and iphones are all breaking\"])"
   ]
  },
  {
   "cell_type": "code",
   "execution_count": 42,
   "id": "64b1646b-01a4-43bc-a04a-1517251707a1",
   "metadata": {},
   "outputs": [
    {
     "data": {
      "text/plain": [
       "array(['Sci/Tech'], dtype='<U25')"
      ]
     },
     "execution_count": 42,
     "metadata": {},
     "output_type": "execute_result"
    }
   ],
   "source": [
    "ncc.predict([\"the news is that Apple sucks and iphones are all breaking\"])"
   ]
  },
  {
   "cell_type": "code",
   "execution_count": 62,
   "id": "71a830a6-9b7a-40b7-83af-861c7230ca9c",
   "metadata": {},
   "outputs": [
    {
     "data": {
      "text/plain": [
       "{'Business': 0.2818127887757396,\n",
       " 'Entertainment': 0.25287742288409065,\n",
       " 'Health': 0.02174460131125806,\n",
       " 'Music Feeds': 0.0037468886164581726,\n",
       " 'Sci/Tech': 0.4013807150921444,\n",
       " 'Software and Developement': 0.010534871596787034,\n",
       " 'Sports': 0.02387887065713928,\n",
       " 'Toons': 0.0040238410663828985}"
      ]
     },
     "execution_count": 62,
     "metadata": {},
     "output_type": "execute_result"
    }
   ],
   "source": [
    "ncc.predict_proba({'description':\"the news is that Apple sucks and iphones are all breaking\"})"
   ]
  },
  {
   "cell_type": "code",
   "execution_count": 63,
   "id": "787f0ed8-2a0b-492d-b505-522876c18e62",
   "metadata": {},
   "outputs": [
    {
     "data": {
      "text/plain": [
       "'Sci/Tech'"
      ]
     },
     "execution_count": 63,
     "metadata": {},
     "output_type": "execute_result"
    }
   ],
   "source": [
    "ncc.predict_label({'description':\"the news is that Apple sucks and iphones are all breaking\"})"
   ]
  },
  {
   "cell_type": "code",
   "execution_count": 64,
   "id": "97db18f3-8016-416d-b1a8-cda987aee4a2",
   "metadata": {},
   "outputs": [
    {
     "data": {
      "text/plain": [
       "'Sci/Tech'"
      ]
     },
     "execution_count": 64,
     "metadata": {},
     "output_type": "execute_result"
    }
   ],
   "source": [
    "ncc.pipeline.predict({'description':\"the news is that Apple sucks and iphones are all breaking\"})[0]"
   ]
  },
  {
   "cell_type": "code",
   "execution_count": null,
   "id": "b8b5eb87-870e-48d3-ba26-119fb29cd7ae",
   "metadata": {},
   "outputs": [],
   "source": []
  }
 ],
 "metadata": {
  "kernelspec": {
   "display_name": "Python 3 (ipykernel)",
   "language": "python",
   "name": "python3"
  },
  "language_info": {
   "codemirror_mode": {
    "name": "ipython",
    "version": 3
   },
   "file_extension": ".py",
   "mimetype": "text/x-python",
   "name": "python",
   "nbconvert_exporter": "python",
   "pygments_lexer": "ipython3",
   "version": "3.9.12"
  }
 },
 "nbformat": 4,
 "nbformat_minor": 5
}
